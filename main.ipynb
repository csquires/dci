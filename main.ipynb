{
 "cells": [
  {
   "cell_type": "code",
   "execution_count": 1,
   "metadata": {},
   "outputs": [
    {
     "name": "stderr",
     "output_type": "stream",
     "text": [
      "/usr/local/lib/python3.6/site-packages/rpy2/ipython/rmagic.py:73: UserWarning: The Python package 'pandas' is stronglyrecommended when using `rpy2.ipython`. Unfortunately it could not be loaded, but at least we found 'numpy'.\n",
      "  \"but at least we found 'numpy'.\")))\n"
     ]
    }
   ],
   "source": [
    "%load_ext rpy2.ipython\n",
    "\n",
    "from IPython.display import clear_output\n",
    "from utils import math_utils, sys_utils\n",
    "import numpy as np\n",
    "import os\n",
    "import dci\n",
    "import yaml\n",
    "\n",
    "SAVE_FOLDER = 'data1/'\n",
    "N_PAIRS = 100\n",
    "N_SAMP = 1000\n",
    "R = .05\n",
    "A = .05\n",
    "p = 10\n",
    "s = 3./p\n",
    "\n",
    "DUG_ALPHA = .001\n",
    "DDAG_SKEL_ALPHAS = [1e-5, 1e-4, 1e-3, .01, .1]\n",
    "PCALG_ALPHAS = [1e-5, 1e-4, 1e-3, .01, .1]\n",
    "DDAG_ALPHA = .05\n",
    "\n",
    "RED = '#e41a1c'\n",
    "BLUE = '#377eb8'\n",
    "GREEN = '#4daf4a'\n",
    "PURPLE = '#984ea3'\n",
    "ORANGE = '#ff7f00'"
   ]
  },
  {
   "cell_type": "markdown",
   "metadata": {},
   "source": [
    "Generate 100 random DAG pairs, with\n",
    " - p = 10 nodes\n",
    " - s = 3 expected neighbors per node\n",
    " - R = A = 5% addition and removal rate of edges\n",
    "\n",
    "Also generate samples and save sample precision matrices in /data1"
   ]
  },
  {
   "cell_type": "code",
   "execution_count": 2,
   "metadata": {},
   "outputs": [],
   "source": [
    "for i in range(N_PAIRS):\n",
    "    sys_utils.ensure_dirs([\n",
    "        SAVE_FOLDER + 'pair{}/Bs/'.format(i), \n",
    "        SAVE_FOLDER + 'pair{}/Xs/'.format(i), \n",
    "        SAVE_FOLDER + 'pair{}/sample_Ks/'.format(i)\n",
    "    ])\n",
    "    \n",
    "    B1 = math_utils.random_dag(p, s)\n",
    "    B2, changed_edges = math_utils.random_dag_changes(B1, r=R, a=A)\n",
    "    np.savetxt(SAVE_FOLDER + 'pair{}/Bs/B1.txt'.format(i), B1)\n",
    "    np.savetxt(SAVE_FOLDER + 'pair{}/Bs/B2.txt'.format(i), B2)\n",
    "    \n",
    "    X1 = math_utils.sample_dag(B1, N_SAMP)\n",
    "    X2 = math_utils.sample_dag(B2, N_SAMP)\n",
    "    sample_S1 = X1.T @ X1\n",
    "    sample_S2 = X2.T @ X2\n",
    "    sample_K1 = np.linalg.inv(sample_S1)\n",
    "    sample_K2 = np.linalg.inv(sample_S2)\n",
    "    np.savetxt(SAVE_FOLDER + 'pair{}/Xs/X1.txt'.format(i), X1)\n",
    "    np.savetxt(SAVE_FOLDER + 'pair{}/Xs/X2.txt'.format(i), X2)\n",
    "    np.savetxt(SAVE_FOLDER + 'pair{}/sample_Ks/K1.txt'.format(i), sample_K1)\n",
    "    np.savetxt(SAVE_FOLDER + 'pair{}/sample_Ks/K2.txt'.format(i), sample_K2)"
   ]
  },
  {
   "cell_type": "markdown",
   "metadata": {},
   "source": [
    "Estimate the D-UG, D-DAG skeleton, and D-DAG"
   ]
  },
  {
   "cell_type": "markdown",
   "metadata": {},
   "source": []
  },
  {
   "cell_type": "code",
   "execution_count": 5,
   "metadata": {},
   "outputs": [],
   "source": [
    "verbose = False\n",
    "for i in range(N_PAIRS):\n",
    "    RES_FOLDER = SAVE_FOLDER + 'pair{}/dci_results/'.format(i)\n",
    "    if not os.path.exists(RES_FOLDER):\n",
    "        print('==== Estimating D-DAG for pair {} ===='.format(i))\n",
    "        sys_utils.ensure_dirs([RES_FOLDER])\n",
    "        B1 = np.loadtxt(SAVE_FOLDER + 'pair{}/Bs/B1.txt'.format(i))\n",
    "        B2 = np.loadtxt(SAVE_FOLDER + 'pair{}/Bs/B2.txt'.format(i))\n",
    "        X1 = np.loadtxt(SAVE_FOLDER + 'pair{}/Xs/X1.txt'.format(i))\n",
    "        X2 = np.loadtxt(SAVE_FOLDER + 'pair{}/Xs/X2.txt'.format(i))\n",
    "        sample_K1 = np.loadtxt(SAVE_FOLDER + 'pair{}/sample_Ks/K1.txt'.format(i))\n",
    "        sample_K2 = np.loadtxt(SAVE_FOLDER + 'pair{}/sample_Ks/K2.txt'.format(i))\n",
    "\n",
    "        est_dug, changed_nodes = dci.estimate_dug(sample_K1, sample_K2, N_SAMP, N_SAMP, alpha=DUG_ALPHA, verbose=verbose)\n",
    "        retained_edges_dict, _ = dci.estimate_ddag_skeleton(X1, X2, est_dug, changed_nodes, DDAG_SKEL_ALPHAS, verbose=verbose)\n",
    "        yaml.dump(sys_utils.listify_dict(retained_edges_dict), open(RES_FOLDER + 'estimated_ddag_skeletons.yaml', 'w'), indent=2)\n",
    "\n",
    "        estimated_ddags = {}\n",
    "        for alpha in DDAG_SKEL_ALPHAS:\n",
    "            est_ddag = dci.estimate_ddag(X1, X2, retained_edges_dict[alpha], changed_nodes, DDAG_ALPHA, verbose=verbose)\n",
    "            estimated_ddags[alpha] = est_ddag\n",
    "        yaml.dump(sys_utils.listify_dict(estimated_ddags), open(RES_FOLDER + 'estimated_ddags.yaml', 'w'), indent=2)\n",
    "clear_output()"
   ]
  },
  {
   "cell_type": "code",
   "execution_count": 11,
   "metadata": {},
   "outputs": [
    {
     "name": "stdout",
     "output_type": "stream",
     "text": [
      "=== COMPUTING TP/TN/FP/FN RATES FOR DAG PAIR 0 ===\n"
     ]
    },
    {
     "ename": "OSError",
     "evalue": "data1/pair0/Bs/B1.txt not found.",
     "traceback": [
      "\u001b[0;31m---------------------------------------------------------------------------\u001b[0m",
      "\u001b[0;31mOSError\u001b[0m                                   Traceback (most recent call last)",
      "\u001b[0;32m<ipython-input-11-155e5ee8eec6>\u001b[0m in \u001b[0;36m<module>\u001b[0;34m()\u001b[0m\n\u001b[1;32m      9\u001b[0m     \u001b[0mprint\u001b[0m\u001b[0;34m(\u001b[0m\u001b[0;34m\"=== COMPUTING TP/TN/FP/FN RATES FOR DAG PAIR {} ===\"\u001b[0m\u001b[0;34m.\u001b[0m\u001b[0mformat\u001b[0m\u001b[0;34m(\u001b[0m\u001b[0mi\u001b[0m\u001b[0;34m)\u001b[0m\u001b[0;34m)\u001b[0m\u001b[0;34m\u001b[0m\u001b[0m\n\u001b[1;32m     10\u001b[0m     \u001b[0mRES_FOLDER\u001b[0m \u001b[0;34m=\u001b[0m \u001b[0mSAVE_FOLDER\u001b[0m \u001b[0;34m+\u001b[0m \u001b[0;34m'pair{}/dci_results/'\u001b[0m\u001b[0;34m.\u001b[0m\u001b[0mformat\u001b[0m\u001b[0;34m(\u001b[0m\u001b[0mi\u001b[0m\u001b[0;34m)\u001b[0m\u001b[0;34m\u001b[0m\u001b[0m\n\u001b[0;32m---> 11\u001b[0;31m     \u001b[0mB1\u001b[0m \u001b[0;34m=\u001b[0m \u001b[0mnp\u001b[0m\u001b[0;34m.\u001b[0m\u001b[0mloadtxt\u001b[0m\u001b[0;34m(\u001b[0m\u001b[0mSAVE_FOLDER\u001b[0m \u001b[0;34m+\u001b[0m \u001b[0;34m'pair{}/Bs/B1.txt'\u001b[0m\u001b[0;34m.\u001b[0m\u001b[0mformat\u001b[0m\u001b[0;34m(\u001b[0m\u001b[0mi\u001b[0m\u001b[0;34m)\u001b[0m\u001b[0;34m)\u001b[0m\u001b[0;34m\u001b[0m\u001b[0m\n\u001b[0m\u001b[1;32m     12\u001b[0m     \u001b[0mB2\u001b[0m \u001b[0;34m=\u001b[0m \u001b[0mnp\u001b[0m\u001b[0;34m.\u001b[0m\u001b[0mloadtxt\u001b[0m\u001b[0;34m(\u001b[0m\u001b[0mSAVE_FOLDER\u001b[0m \u001b[0;34m+\u001b[0m \u001b[0;34m'pair{}/Bs/B2.txt'\u001b[0m\u001b[0;34m.\u001b[0m\u001b[0mformat\u001b[0m\u001b[0;34m(\u001b[0m\u001b[0mi\u001b[0m\u001b[0;34m)\u001b[0m\u001b[0;34m)\u001b[0m\u001b[0;34m\u001b[0m\u001b[0m\n\u001b[1;32m     13\u001b[0m     \u001b[0mactual_edges\u001b[0m \u001b[0;34m=\u001b[0m \u001b[0mset\u001b[0m\u001b[0;34m(\u001b[0m\u001b[0mmath_utils\u001b[0m\u001b[0;34m.\u001b[0m\u001b[0mupper_tri_ixs_nonzero\u001b[0m\u001b[0;34m(\u001b[0m\u001b[0mB1\u001b[0m \u001b[0;34m-\u001b[0m \u001b[0mB2\u001b[0m\u001b[0;34m)\u001b[0m\u001b[0;34m)\u001b[0m\u001b[0;34m\u001b[0m\u001b[0m\n",
      "\u001b[0;32m/usr/local/lib/python3.6/site-packages/numpy/lib/npyio.py\u001b[0m in \u001b[0;36mloadtxt\u001b[0;34m(fname, dtype, comments, delimiter, converters, skiprows, usecols, unpack, ndmin, encoding)\u001b[0m\n\u001b[1;32m    915\u001b[0m             \u001b[0mfname\u001b[0m \u001b[0;34m=\u001b[0m \u001b[0mstr\u001b[0m\u001b[0;34m(\u001b[0m\u001b[0mfname\u001b[0m\u001b[0;34m)\u001b[0m\u001b[0;34m\u001b[0m\u001b[0m\n\u001b[1;32m    916\u001b[0m         \u001b[0;32mif\u001b[0m \u001b[0m_is_string_like\u001b[0m\u001b[0;34m(\u001b[0m\u001b[0mfname\u001b[0m\u001b[0;34m)\u001b[0m\u001b[0;34m:\u001b[0m\u001b[0;34m\u001b[0m\u001b[0m\n\u001b[0;32m--> 917\u001b[0;31m             \u001b[0mfh\u001b[0m \u001b[0;34m=\u001b[0m \u001b[0mnp\u001b[0m\u001b[0;34m.\u001b[0m\u001b[0mlib\u001b[0m\u001b[0;34m.\u001b[0m\u001b[0m_datasource\u001b[0m\u001b[0;34m.\u001b[0m\u001b[0mopen\u001b[0m\u001b[0;34m(\u001b[0m\u001b[0mfname\u001b[0m\u001b[0;34m,\u001b[0m \u001b[0;34m'rt'\u001b[0m\u001b[0;34m,\u001b[0m \u001b[0mencoding\u001b[0m\u001b[0;34m=\u001b[0m\u001b[0mencoding\u001b[0m\u001b[0;34m)\u001b[0m\u001b[0;34m\u001b[0m\u001b[0m\n\u001b[0m\u001b[1;32m    918\u001b[0m             \u001b[0mfencoding\u001b[0m \u001b[0;34m=\u001b[0m \u001b[0mgetattr\u001b[0m\u001b[0;34m(\u001b[0m\u001b[0mfh\u001b[0m\u001b[0;34m,\u001b[0m \u001b[0;34m'encoding'\u001b[0m\u001b[0;34m,\u001b[0m \u001b[0;34m'latin1'\u001b[0m\u001b[0;34m)\u001b[0m\u001b[0;34m\u001b[0m\u001b[0m\n\u001b[1;32m    919\u001b[0m             \u001b[0mfh\u001b[0m \u001b[0;34m=\u001b[0m \u001b[0miter\u001b[0m\u001b[0;34m(\u001b[0m\u001b[0mfh\u001b[0m\u001b[0;34m)\u001b[0m\u001b[0;34m\u001b[0m\u001b[0m\n",
      "\u001b[0;32m/usr/local/lib/python3.6/site-packages/numpy/lib/_datasource.py\u001b[0m in \u001b[0;36mopen\u001b[0;34m(path, mode, destpath, encoding, newline)\u001b[0m\n\u001b[1;32m    258\u001b[0m \u001b[0;34m\u001b[0m\u001b[0m\n\u001b[1;32m    259\u001b[0m     \u001b[0mds\u001b[0m \u001b[0;34m=\u001b[0m \u001b[0mDataSource\u001b[0m\u001b[0;34m(\u001b[0m\u001b[0mdestpath\u001b[0m\u001b[0;34m)\u001b[0m\u001b[0;34m\u001b[0m\u001b[0m\n\u001b[0;32m--> 260\u001b[0;31m     \u001b[0;32mreturn\u001b[0m \u001b[0mds\u001b[0m\u001b[0;34m.\u001b[0m\u001b[0mopen\u001b[0m\u001b[0;34m(\u001b[0m\u001b[0mpath\u001b[0m\u001b[0;34m,\u001b[0m \u001b[0mmode\u001b[0m\u001b[0;34m,\u001b[0m \u001b[0mencoding\u001b[0m\u001b[0;34m=\u001b[0m\u001b[0mencoding\u001b[0m\u001b[0;34m,\u001b[0m \u001b[0mnewline\u001b[0m\u001b[0;34m=\u001b[0m\u001b[0mnewline\u001b[0m\u001b[0;34m)\u001b[0m\u001b[0;34m\u001b[0m\u001b[0m\n\u001b[0m\u001b[1;32m    261\u001b[0m \u001b[0;34m\u001b[0m\u001b[0m\n\u001b[1;32m    262\u001b[0m \u001b[0;34m\u001b[0m\u001b[0m\n",
      "\u001b[0;32m/usr/local/lib/python3.6/site-packages/numpy/lib/_datasource.py\u001b[0m in \u001b[0;36mopen\u001b[0;34m(self, path, mode, encoding, newline)\u001b[0m\n\u001b[1;32m    614\u001b[0m                                       encoding=encoding, newline=newline)\n\u001b[1;32m    615\u001b[0m         \u001b[0;32melse\u001b[0m\u001b[0;34m:\u001b[0m\u001b[0;34m\u001b[0m\u001b[0m\n\u001b[0;32m--> 616\u001b[0;31m             \u001b[0;32mraise\u001b[0m \u001b[0mIOError\u001b[0m\u001b[0;34m(\u001b[0m\u001b[0;34m\"%s not found.\"\u001b[0m \u001b[0;34m%\u001b[0m \u001b[0mpath\u001b[0m\u001b[0;34m)\u001b[0m\u001b[0;34m\u001b[0m\u001b[0m\n\u001b[0m\u001b[1;32m    617\u001b[0m \u001b[0;34m\u001b[0m\u001b[0m\n\u001b[1;32m    618\u001b[0m \u001b[0;34m\u001b[0m\u001b[0m\n",
      "\u001b[0;31mOSError\u001b[0m: data1/pair0/Bs/B1.txt not found."
     ],
     "output_type": "error"
    }
   ],
   "source": [
    "rates_skel_dci = {\n",
    "    'tprs': np.zeros([N_PAIRS, len(DDAG_SKEL_ALPHAS)]),\n",
    "    'tnrs': np.zeros([N_PAIRS, len(DDAG_SKEL_ALPHAS)]),\n",
    "    'fprs': np.zeros([N_PAIRS, len(DDAG_SKEL_ALPHAS)]),\n",
    "    'fnrs': np.zeros([N_PAIRS, len(DDAG_SKEL_ALPHAS)])\n",
    "}\n",
    "\n",
    "for i in range(N_PAIRS):\n",
    "    print(\"=== COMPUTING TP/TN/FP/FN RATES FOR DAG PAIR {} ===\".format(i))\n",
    "    RES_FOLDER = SAVE_FOLDER + 'pair{}/dci_results/'.format(i)\n",
    "    B1 = np.loadtxt(SAVE_FOLDER + 'pair{}/Bs/B1.txt'.format(i))\n",
    "    B2 = np.loadtxt(SAVE_FOLDER + 'pair{}/Bs/B2.txt'.format(i))\n",
    "    actual_edges = set(math_utils.upper_tri_ixs_nonzero(B1 - B2))\n",
    "    actual_no_edges = set(math_utils.upper_tri_ixs_zero(B1 - B2))\n",
    "    \n",
    "    est_ddag_skeletons = sys_utils.setify_dict(yaml.load(open(RES_FOLDER + 'estimated_ddag_skeletons.yaml')))\n",
    "    est_ddags = sys_utils.setify_dict(yaml.load(open(RES_FOLDER + 'estimated_ddags.yaml')))\n",
    "    \n",
    "    for j, alpha in enumerate(DDAG_SKEL_ALPHAS):\n",
    "        true_pos, true_neg, false_pos, false_neg = math_utils.sort_pos_neg(est_ddag_skeletons[alpha], actual_edges, actual_no_edges)\n",
    "        tpr, tnr, fpr, fnr = math_utils.compute_pos_neg_rates(true_pos, true_neg, false_pos, false_neg)\n",
    "        rates_skel_dci['tprs'][i, j] = tpr\n",
    "        rates_skel_dci['tnrs'][i, j] = tnr\n",
    "        rates_skel_dci['fprs'][i, j] = fpr\n",
    "        rates_skel_dci['fnrs'][i, j] = fnr\n",
    "\n",
    "avg_tprs_dci = rates_skel_dci['tprs'].mean(axis=0)\n",
    "avg_fprs_dci = rates_skel_dci['fprs'].mean(axis=0)\n",
    "exactly_correct_dci = np.logical_and(rates_skel_dci['fprs'] == 0, rates_skel_dci['fnrs'] == 0)\n",
    "prop_exactly_correct_dci = exactly_correct_dci.sum(axis=0) / N_PAIRS"
   ]
  },
  {
   "cell_type": "code",
   "execution_count": 71,
   "metadata": {},
   "outputs": [],
   "source": [
    "%%R -i N_PAIRS,SAVE_FOLDER,PCALG_ALPHAS\n",
    "\n",
    "library('pcalg')\n",
    "library('GetoptLong')\n",
    "\n",
    "for (i in 0:(N_PAIRS-1)) {\n",
    "    X1 = read.table(qq('@{SAVE_FOLDER}pair@{i}/Xs/X1.txt'))\n",
    "    X2 = read.table(qq('@{SAVE_FOLDER}pair@{i}/Xs/X2.txt'))\n",
    "    S1 = list(C = cor(X1), n = nrow(X1))\n",
    "    S2 = list(C = cor(X2), n = nrow(X2))\n",
    "    \n",
    "    for (alpha in PCALG_ALPHAS) {\n",
    "        RES_FOLDER = qq('@{SAVE_FOLDER}pair@{i}/pcalg_results/alpha=@{alpha}/')\n",
    "        dir.create(RES_FOLDER, recursive=TRUE)\n",
    "        skel1 = pc(suffStat = S1, indepTest=gaussCItest, alpha=alpha, labels=colnames(X1))\n",
    "        skel2 = pc(suffStat = S2, indepTest=gaussCItest, alpha=alpha, labels=colnames(X2))\n",
    "        write(as(skel1, 'amat'), file=qq('@{RES_FOLDER}A1.txt'), ncolumns=ncol(X1))\n",
    "        write(as(skel2, 'amat'), file=qq('@{RES_FOLDER}A2.txt'), ncolumns=ncol(X2))\n",
    "    }\n",
    "}"
   ]
  },
  {
   "cell_type": "code",
   "execution_count": null,
   "metadata": {},
   "outputs": [],
   "source": [
    "rates_skel_pc = {\n",
    "    'tprs': np.zeros([N_PAIRS, len(DDAG_SKEL_ALPHAS)]),\n",
    "    'tnrs': np.zeros([N_PAIRS, len(DDAG_SKEL_ALPHAS)]),\n",
    "    'fprs': np.zeros([N_PAIRS, len(DDAG_SKEL_ALPHAS)]),\n",
    "    'fnrs': np.zeros([N_PAIRS, len(DDAG_SKEL_ALPHAS)])\n",
    "}\n",
    "\n",
    "for i in range(N_PAIRS):\n",
    "    B1 = np.loadtxt(SAVE_FOLDER + 'pair{}/Bs/B1.txt'.format(i))\n",
    "    B2 = np.loadtxt(SAVE_FOLDER + 'pair{}/Bs/B2.txt'.format(i))\n",
    "    actual_edges = set(math_utils.upper_tri_ixs_nonzero(B1 - B2))\n",
    "    actual_no_edges = set(math_utils.upper_tri_ixs_zero(B1 - B2))\n",
    "    \n",
    "    for j, alpha in enumerate(PCALG_ALPHAS):\n",
    "        A1 = np.loadtxt(SAVE_FOLDER + 'pair{}/pcalg_results/alpha={}/A1.txt'.format(i, alpha))\n",
    "        A2 = np.loadtxt(SAVE_FOLDER + 'pair{}/pcalg_results/alpha={}/A2.txt'.format(i, alpha))\n",
    "        est_ddag_skel = set(math_utils.upper_tri_ixs_nonzero(A1 - A2))\n",
    "        true_pos, true_neg, false_pos, false_neg = math_utils.sort_pos_neg(est_ddag_skel, actual_edges, actual_no_edges)\n",
    "        tpr, tnr, fpr, fnr = math_utils.compute_pos_neg_rates(true_pos, true_neg, false_pos, false_neg)\n",
    "        rates_skel_pc['tprs'][i, j] = tpr\n",
    "        rates_skel_pc['tnrs'][i, j] = tnr\n",
    "        rates_skel_pc['fprs'][i, j] = fpr\n",
    "        rates_skel_pc['fnrs'][i, j] = fnr\n",
    "    \n",
    "avg_tprs_pc = rates_skel_pc['tprs'].mean(axis=0)\n",
    "avg_fprs_pc = rates_skel_pc['fprs'].mean(axis=0)\n",
    "exactly_correct_pc = np.logical_and(rates_skel_pc['fprs'] == 0, rates_skel_pc['fnrs'] == 0)\n",
    "prop_exactly_correct_pc = exactly_correct_pc.sum(axis=0) / N_PAIRS\n",
    "        "
   ]
  },
  {
   "cell_type": "code",
   "execution_count": 36,
   "metadata": {},
   "outputs": [
    {
     "data": {
      "text/plain": [
       "(0, 1)"
      ]
     },
     "execution_count": 36,
     "metadata": {},
     "output_type": "execute_result"
    },
    {
     "data": {
      "image/png": "[encoded data removed]",
      "text/plain": [
       "<matplotlib.figure.Figure at 0x11774d240>"
      ]
     },
     "metadata": {},
     "output_type": "display_data"
    }
   ],
   "source": [
    "%matplotlib inline\n",
    "\n",
    "import matplotlib.pyplot as plt\n",
    "import matplotlib.patches as mpatches\n",
    "\n",
    "plt.plot(DDAG_SKEL_ALPHAS, prop_exactly_correct_dci, color=BLUE)\n",
    "plt.plot(PCALG_ALPHAS, prop_exactly_correct_pc, color=GREEN)\n",
    "plt.xscale('log')\n",
    "plt.xlabel(r'$\\alpha$')\n",
    "plt.ylabel(r\"Proportion of correctly estimated $\\bar{\\Delta}$'s\")\n",
    "plt.ylim([0, 1])\n",
    "\n",
    "plt.legend(handles=[\n",
    "    mpatches.Patch(color=GREEN, label='PC'),\n",
    "    mpatches.Patch(color=BLUE, label='DCI-C')\n",
    "])"
   ]
  },
  {
   "cell_type": "code",
   "execution_count": 4,
   "metadata": {},
   "outputs": [
    {
     "data": {
      "text/plain": [
       "'/Users/chandlersquires/Documents/dci'"
      ]
     },
     "execution_count": 4,
     "metadata": {},
     "output_type": "execute_result"
    }
   ],
   "source": [
    "%pwd"
   ]
  },
  {
   "cell_type": "code",
   "execution_count": null,
   "metadata": {},
   "outputs": [],
   "source": []
  }
 ],
 "metadata": {
  "kernelspec": {
   "display_name": "Python 3",
   "language": "python",
   "name": "python3"
  },
  "language_info": {
   "codemirror_mode": {
    "name": "ipython",
    "version": 3
   },
   "file_extension": ".py",
   "mimetype": "text/x-python",
   "name": "python",
   "nbconvert_exporter": "python",
   "pygments_lexer": "ipython3",
   "version": "3.6.4"
  }
 },
 "nbformat": 4,
 "nbformat_minor": 1
}
