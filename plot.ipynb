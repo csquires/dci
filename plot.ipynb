{
 "cells": [
  {
   "cell_type": "code",
   "execution_count": 3,
   "metadata": {},
   "outputs": [],
   "source": [
    "%matplotlib inline\n",
    "\n",
    "import matplotlib.pyplot as plt\n",
    "import matplotlib.patches as mpatches\n",
    "import yaml\n",
    "\n",
    "SAVE_FOLDER = 'data/data1/'\n",
    "\n",
    "RED = '#e41a1c'\n",
    "BLUE = '#377eb8'\n",
    "GREEN = '#4daf4a'\n",
    "PURPLE = '#984ea3'\n",
    "ORANGE = '#ff7f00'\n",
    "\n",
    "DDAG_SKEL_ALPHAS = [1e-5, 1e-4, 1e-3, .01, .1]\n",
    "PCALG_ALPHAS = [1e-5, 1e-4, 1e-3, .01, .1]"
   ]
  },
  {
   "cell_type": "code",
   "execution_count": null,
   "metadata": {},
   "outputs": [
    {
     "ename": "FileNotFoundError",
     "evalue": "[Errno 2] No such file or directory: 'data/data1/performance/skeleton/exactly_correct_pc.yaml'",
     "traceback": [
      "\u001b[0;31m---------------------------------------------------------------------------\u001b[0m",
      "\u001b[0;31mFileNotFoundError\u001b[0m                         Traceback (most recent call last)",
      "\u001b[0;32m<ipython-input-4-74e2880c307e>\u001b[0m in \u001b[0;36m<module>\u001b[0;34m()\u001b[0m\n\u001b[1;32m      1\u001b[0m \u001b[0mprop_exactly_correct_dci\u001b[0m \u001b[0;34m=\u001b[0m \u001b[0myaml\u001b[0m\u001b[0;34m.\u001b[0m\u001b[0mload\u001b[0m\u001b[0;34m(\u001b[0m\u001b[0mopen\u001b[0m\u001b[0;34m(\u001b[0m\u001b[0mSAVE_FOLDER\u001b[0m \u001b[0;34m+\u001b[0m \u001b[0;34m'performance/skeleton/exactly_correct_dci.yaml'\u001b[0m\u001b[0;34m)\u001b[0m\u001b[0;34m)\u001b[0m\u001b[0;34m\u001b[0m\u001b[0m\n\u001b[0;32m----> 2\u001b[0;31m \u001b[0mprop_exactly_correct_pc\u001b[0m \u001b[0;34m=\u001b[0m \u001b[0myaml\u001b[0m\u001b[0;34m.\u001b[0m\u001b[0mload\u001b[0m\u001b[0;34m(\u001b[0m\u001b[0mopen\u001b[0m\u001b[0;34m(\u001b[0m\u001b[0mSAVE_FOLDER\u001b[0m \u001b[0;34m+\u001b[0m \u001b[0;34m'performance/skeleton/exactly_correct_pc.yaml'\u001b[0m\u001b[0;34m)\u001b[0m\u001b[0;34m)\u001b[0m\u001b[0;34m\u001b[0m\u001b[0m\n\u001b[0m\u001b[1;32m      3\u001b[0m \u001b[0mrates_skel_dci\u001b[0m \u001b[0;34m=\u001b[0m \u001b[0myaml\u001b[0m\u001b[0;34m.\u001b[0m\u001b[0mload\u001b[0m\u001b[0;34m(\u001b[0m\u001b[0mopen\u001b[0m\u001b[0;34m(\u001b[0m\u001b[0mSAVE_FOLDER\u001b[0m \u001b[0;34m+\u001b[0m \u001b[0;34m'performance/skeleton/rates_dci.yaml'\u001b[0m\u001b[0;34m)\u001b[0m\u001b[0;34m)\u001b[0m\u001b[0;34m\u001b[0m\u001b[0m\n\u001b[1;32m      4\u001b[0m \u001b[0mrates_skel_pc\u001b[0m \u001b[0;34m=\u001b[0m \u001b[0myaml\u001b[0m\u001b[0;34m.\u001b[0m\u001b[0mload\u001b[0m\u001b[0;34m(\u001b[0m\u001b[0mopen\u001b[0m\u001b[0;34m(\u001b[0m\u001b[0mSAVE_FOLDER\u001b[0m \u001b[0;34m+\u001b[0m \u001b[0;34m'performance/skeleton/rates_pc.yaml'\u001b[0m\u001b[0;34m)\u001b[0m\u001b[0;34m)\u001b[0m\u001b[0;34m\u001b[0m\u001b[0m\n\u001b[1;32m      5\u001b[0m \u001b[0;34m\u001b[0m\u001b[0m\n",
      "\u001b[0;31mFileNotFoundError\u001b[0m: [Errno 2] No such file or directory: 'data/data1/performance/skeleton/exactly_correct_pc.yaml'"
     ],
     "output_type": "error"
    }
   ],
   "source": [
    "prop_exactly_correct_dci = yaml.load(open(SAVE_FOLDER + 'performance/skeleton/exactly_correct_dci.yaml'))\n",
    "prop_exactly_correct_pc = yaml.load(open(SAVE_FOLDER + 'performance/skeleton/exactly_correct_pc.yaml'))\n",
    "rates_skel_dci = yaml.load(open(SAVE_FOLDER + 'performance/skeleton/rates_dci.yaml'))\n",
    "rates_skel_pc = yaml.load(open(SAVE_FOLDER + 'performance/skeleton/rates_pc.yaml'))\n",
    "\n",
    "avg_tprs_dci = rates_skel_dci['tprs'].mean(axis=0)\n",
    "avg_fprs_dci = rates_skel_dci['fprs'].mean(axis=0)\n",
    "\n",
    "plt.plot(DDAG_SKEL_ALPHAS, prop_exactly_correct_dci, color=BLUE)\n",
    "plt.plot(PCALG_ALPHAS, prop_exactly_correct_pc, color=GREEN)\n",
    "plt.xscale('log')\n",
    "plt.xlabel(r'$\\alpha$')\n",
    "plt.ylabel(r\"Proportion of correctly estimated $\\bar{\\Delta}$'s\")\n",
    "plt.ylim([0, 1])\n",
    "\n",
    "plt.legend(handles=[\n",
    "    mpatches.Patch(color=GREEN, label='PC'),\n",
    "    mpatches.Patch(color=BLUE, label='DCI-C')\n",
    "])"
   ]
  },
  {
   "cell_type": "code",
   "execution_count": null,
   "metadata": {},
   "outputs": [],
   "source": []
  }
 ],
 "metadata": {},
 "nbformat": 4,
 "nbformat_minor": 0
}
