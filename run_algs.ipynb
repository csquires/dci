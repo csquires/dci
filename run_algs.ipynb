{
 "cells": [
  {
   "cell_type": "code",
   "execution_count": 1,
   "metadata": {},
   "outputs": [
    {
     "name": "stderr",
     "output_type": "stream",
     "text": [
      "/usr/local/lib/python3.6/site-packages/rpy2/ipython/rmagic.py:73: UserWarning: The Python package 'pandas' is stronglyrecommended when using `rpy2.ipython`. Unfortunately it could not be loaded, but at least we found 'numpy'.\n  \"but at least we found 'numpy'.\")))\n"
     ]
    }
   ],
   "source": [
    "%load_ext rpy2.ipython\n",
    "\n",
    "from IPython.display import clear_output\n",
    "from utils import math_utils, sys_utils\n",
    "import numpy as np\n",
    "import os\n",
    "import dci\n",
    "import yaml\n",
    "\n",
    "SAVE_FOLDER = 'data/data1/'\n",
    "N_PAIRS = 100\n",
    "N_SAMP = 1000\n",
    "R = .05\n",
    "A = .05\n",
    "p = 10\n",
    "s = 3./p\n",
    "\n",
    "DUG_ALPHA = .001\n",
    "DDAG_SKEL_ALPHAS = [1e-5, 1e-4, 1e-3, .01, .1]\n",
    "PCALG_ALPHAS = [1e-5, 1e-4, 1e-3, .01, .1]\n",
    "DDAG_ALPHA = .05\n",
    "\n"
   ]
  },
  {
   "cell_type": "markdown",
   "metadata": {},
   "source": [
    "Generate 100 random DAG pairs, with\n",
    " - p = 10 nodes\n",
    " - s = 3 expected neighbors per node\n",
    " - R = A = 5% addition and removal rate of edges\n",
    "\n",
    "Also generate samples and save sample precision matrices in /data1"
   ]
  },
  {
   "cell_type": "code",
   "execution_count": 5,
   "metadata": {},
   "outputs": [],
   "source": [
    "for i in range(N_PAIRS):\n",
    "    sys_utils.ensure_dirs([\n",
    "        SAVE_FOLDER + 'pair{}/Bs/'.format(i), \n",
    "        SAVE_FOLDER + 'pair{}/Xs/'.format(i), \n",
    "        SAVE_FOLDER + 'pair{}/sample_Ks/'.format(i)\n",
    "    ])\n",
    "    \n",
    "    B1 = math_utils.random_dag(p, s)\n",
    "    B2, changed_edges = math_utils.random_dag_changes(B1, r=R, a=A)\n",
    "    np.savetxt(SAVE_FOLDER + 'pair{}/Bs/B1.txt'.format(i), B1)\n",
    "    np.savetxt(SAVE_FOLDER + 'pair{}/Bs/B2.txt'.format(i), B2)\n",
    "    \n",
    "    X1 = math_utils.sample_dag(B1, N_SAMP)\n",
    "    X2 = math_utils.sample_dag(B2, N_SAMP)\n",
    "    sample_S1 = X1.T @ X1\n",
    "    sample_S2 = X2.T @ X2\n",
    "    sample_K1 = np.linalg.inv(sample_S1)\n",
    "    sample_K2 = np.linalg.inv(sample_S2)\n",
    "    np.savetxt(SAVE_FOLDER + 'pair{}/Xs/X1.txt'.format(i), X1)\n",
    "    np.savetxt(SAVE_FOLDER + 'pair{}/Xs/X2.txt'.format(i), X2)\n",
    "    np.savetxt(SAVE_FOLDER + 'pair{}/sample_Ks/K1.txt'.format(i), sample_K1)\n",
    "    np.savetxt(SAVE_FOLDER + 'pair{}/sample_Ks/K2.txt'.format(i), sample_K2)"
   ]
  },
  {
   "cell_type": "markdown",
   "metadata": {},
   "source": [
    "Estimate the D-UG, D-DAG skeleton, and D-DAG"
   ]
  },
  {
   "cell_type": "markdown",
   "metadata": {},
   "source": []
  },
  {
   "cell_type": "code",
   "execution_count": 6,
   "metadata": {},
   "outputs": [
    {
     "name": "stdout",
     "output_type": "stream",
     "text": [
      "==== Estimating D-DAG for pair 0 ====\n==== Estimating D-DAG for pair 1 ====\n"
     ]
    },
    {
     "name": "stdout",
     "output_type": "stream",
     "text": [
      "==== Estimating D-DAG for pair 2 ====\n"
     ]
    },
    {
     "name": "stdout",
     "output_type": "stream",
     "text": [
      "==== Estimating D-DAG for pair 3 ====\n"
     ]
    },
    {
     "name": "stdout",
     "output_type": "stream",
     "text": [
      "==== Estimating D-DAG for pair 4 ====\n==== Estimating D-DAG for pair 5 ====\n"
     ]
    },
    {
     "name": "stdout",
     "output_type": "stream",
     "text": [
      "==== Estimating D-DAG for pair 6 ====\n"
     ]
    },
    {
     "name": "stdout",
     "output_type": "stream",
     "text": [
      "==== Estimating D-DAG for pair 7 ====\n==== Estimating D-DAG for pair 8 ====\n==== Estimating D-DAG for pair 9 ====\n"
     ]
    },
    {
     "name": "stdout",
     "output_type": "stream",
     "text": [
      "==== Estimating D-DAG for pair 10 ====\n==== Estimating D-DAG for pair 11 ====\n"
     ]
    },
    {
     "name": "stdout",
     "output_type": "stream",
     "text": [
      "==== Estimating D-DAG for pair 12 ====\n==== Estimating D-DAG for pair 13 ====\n==== Estimating D-DAG for pair 14 ====\n"
     ]
    },
    {
     "name": "stdout",
     "output_type": "stream",
     "text": [
      "==== Estimating D-DAG for pair 15 ====\n"
     ]
    },
    {
     "name": "stdout",
     "output_type": "stream",
     "text": [
      "==== Estimating D-DAG for pair 16 ====\n==== Estimating D-DAG for pair 17 ====\n==== Estimating D-DAG for pair 18 ====\n==== Estimating D-DAG for pair 19 ====\n"
     ]
    },
    {
     "name": "stdout",
     "output_type": "stream",
     "text": [
      "==== Estimating D-DAG for pair 20 ====\n"
     ]
    },
    {
     "name": "stdout",
     "output_type": "stream",
     "text": [
      "==== Estimating D-DAG for pair 21 ====\n==== Estimating D-DAG for pair 22 ====\n"
     ]
    },
    {
     "name": "stdout",
     "output_type": "stream",
     "text": [
      "==== Estimating D-DAG for pair 23 ====\n"
     ]
    },
    {
     "name": "stdout",
     "output_type": "stream",
     "text": [
      "==== Estimating D-DAG for pair 24 ====\n==== Estimating D-DAG for pair 25 ====\n==== Estimating D-DAG for pair 26 ====\n"
     ]
    },
    {
     "name": "stdout",
     "output_type": "stream",
     "text": [
      "==== Estimating D-DAG for pair 27 ====\n==== Estimating D-DAG for pair 28 ====\n==== Estimating D-DAG for pair 29 ====\n"
     ]
    },
    {
     "name": "stdout",
     "output_type": "stream",
     "text": [
      "==== Estimating D-DAG for pair 30 ====\n==== Estimating D-DAG for pair 31 ====\n"
     ]
    },
    {
     "name": "stdout",
     "output_type": "stream",
     "text": [
      "==== Estimating D-DAG for pair 32 ====\n==== Estimating D-DAG for pair 33 ====\n"
     ]
    },
    {
     "name": "stdout",
     "output_type": "stream",
     "text": [
      "==== Estimating D-DAG for pair 34 ====\n==== Estimating D-DAG for pair 35 ====\n==== Estimating D-DAG for pair 36 ====\n"
     ]
    },
    {
     "name": "stdout",
     "output_type": "stream",
     "text": [
      "==== Estimating D-DAG for pair 37 ====\n==== Estimating D-DAG for pair 38 ====\n"
     ]
    },
    {
     "name": "stdout",
     "output_type": "stream",
     "text": [
      "==== Estimating D-DAG for pair 39 ====\n==== Estimating D-DAG for pair 40 ====\n==== Estimating D-DAG for pair 41 ====\n==== Estimating D-DAG for pair 42 ====\n"
     ]
    },
    {
     "name": "stdout",
     "output_type": "stream",
     "text": [
      "==== Estimating D-DAG for pair 43 ====\n==== Estimating D-DAG for pair 44 ====\n==== Estimating D-DAG for pair 45 ====\n"
     ]
    },
    {
     "name": "stdout",
     "output_type": "stream",
     "text": [
      "==== Estimating D-DAG for pair 46 ====\n==== Estimating D-DAG for pair 47 ====\n"
     ]
    },
    {
     "name": "stdout",
     "output_type": "stream",
     "text": [
      "==== Estimating D-DAG for pair 48 ====\n==== Estimating D-DAG for pair 49 ====\n==== Estimating D-DAG for pair 50 ====\n"
     ]
    },
    {
     "name": "stdout",
     "output_type": "stream",
     "text": [
      "==== Estimating D-DAG for pair 51 ====\n==== Estimating D-DAG for pair 52 ====\n"
     ]
    },
    {
     "name": "stdout",
     "output_type": "stream",
     "text": [
      "==== Estimating D-DAG for pair 53 ====\n==== Estimating D-DAG for pair 54 ====\n==== Estimating D-DAG for pair 55 ====\n"
     ]
    },
    {
     "name": "stdout",
     "output_type": "stream",
     "text": [
      "==== Estimating D-DAG for pair 56 ====\n==== Estimating D-DAG for pair 57 ====\n==== Estimating D-DAG for pair 58 ====\n"
     ]
    },
    {
     "name": "stdout",
     "output_type": "stream",
     "text": [
      "==== Estimating D-DAG for pair 59 ====\n==== Estimating D-DAG for pair 60 ====\n"
     ]
    },
    {
     "name": "stdout",
     "output_type": "stream",
     "text": [
      "==== Estimating D-DAG for pair 61 ====\n==== Estimating D-DAG for pair 62 ====\n==== Estimating D-DAG for pair 63 ====\n"
     ]
    },
    {
     "name": "stdout",
     "output_type": "stream",
     "text": [
      "==== Estimating D-DAG for pair 64 ====\n==== Estimating D-DAG for pair 65 ====\n==== Estimating D-DAG for pair 66 ====\n"
     ]
    },
    {
     "name": "stdout",
     "output_type": "stream",
     "text": [
      "==== Estimating D-DAG for pair 67 ====\n==== Estimating D-DAG for pair 68 ====\n==== Estimating D-DAG for pair 69 ====\n"
     ]
    },
    {
     "name": "stdout",
     "output_type": "stream",
     "text": [
      "==== Estimating D-DAG for pair 70 ====\n"
     ]
    },
    {
     "name": "stdout",
     "output_type": "stream",
     "text": [
      "==== Estimating D-DAG for pair 71 ====\n"
     ]
    },
    {
     "name": "stdout",
     "output_type": "stream",
     "text": [
      "==== Estimating D-DAG for pair 72 ====\n==== Estimating D-DAG for pair 73 ====\n==== Estimating D-DAG for pair 74 ====\n"
     ]
    },
    {
     "name": "stdout",
     "output_type": "stream",
     "text": [
      "==== Estimating D-DAG for pair 75 ====\n"
     ]
    },
    {
     "name": "stdout",
     "output_type": "stream",
     "text": [
      "==== Estimating D-DAG for pair 76 ====\n==== Estimating D-DAG for pair 77 ====\n"
     ]
    },
    {
     "name": "stdout",
     "output_type": "stream",
     "text": [
      "==== Estimating D-DAG for pair 78 ====\n==== Estimating D-DAG for pair 79 ====\n"
     ]
    },
    {
     "name": "stdout",
     "output_type": "stream",
     "text": [
      "==== Estimating D-DAG for pair 80 ====\n==== Estimating D-DAG for pair 81 ====\n"
     ]
    },
    {
     "name": "stdout",
     "output_type": "stream",
     "text": [
      "==== Estimating D-DAG for pair 82 ====\n==== Estimating D-DAG for pair 83 ====\n==== Estimating D-DAG for pair 84 ====\n"
     ]
    },
    {
     "name": "stdout",
     "output_type": "stream",
     "text": [
      "==== Estimating D-DAG for pair 85 ====\n==== Estimating D-DAG for pair 86 ====\n"
     ]
    },
    {
     "name": "stdout",
     "output_type": "stream",
     "text": [
      "==== Estimating D-DAG for pair 87 ====\n==== Estimating D-DAG for pair 88 ====\n==== Estimating D-DAG for pair 89 ====\n"
     ]
    },
    {
     "name": "stdout",
     "output_type": "stream",
     "text": [
      "==== Estimating D-DAG for pair 90 ====\n==== Estimating D-DAG for pair 91 ====\n==== Estimating D-DAG for pair 92 ====\n"
     ]
    },
    {
     "name": "stdout",
     "output_type": "stream",
     "text": [
      "==== Estimating D-DAG for pair 93 ====\n==== Estimating D-DAG for pair 94 ====\n"
     ]
    },
    {
     "name": "stdout",
     "output_type": "stream",
     "text": [
      "==== Estimating D-DAG for pair 95 ====\n==== Estimating D-DAG for pair 96 ====\n"
     ]
    },
    {
     "name": "stdout",
     "output_type": "stream",
     "text": [
      "==== Estimating D-DAG for pair 97 ====\n==== Estimating D-DAG for pair 98 ====\n"
     ]
    },
    {
     "name": "stdout",
     "output_type": "stream",
     "text": [
      "==== Estimating D-DAG for pair 99 ====\n"
     ]
    }
   ],
   "source": [
    "verbose = False\n",
    "for i in range(N_PAIRS):\n",
    "    RES_FOLDER = SAVE_FOLDER + 'pair{}/dci_results/'.format(i)\n",
    "    if not os.path.exists(RES_FOLDER):\n",
    "        print('==== Estimating D-DAG for pair {} ===='.format(i))\n",
    "        sys_utils.ensure_dirs([RES_FOLDER])\n",
    "        B1 = np.loadtxt(SAVE_FOLDER + 'pair{}/Bs/B1.txt'.format(i))\n",
    "        B2 = np.loadtxt(SAVE_FOLDER + 'pair{}/Bs/B2.txt'.format(i))\n",
    "        X1 = np.loadtxt(SAVE_FOLDER + 'pair{}/Xs/X1.txt'.format(i))\n",
    "        X2 = np.loadtxt(SAVE_FOLDER + 'pair{}/Xs/X2.txt'.format(i))\n",
    "        sample_K1 = np.loadtxt(SAVE_FOLDER + 'pair{}/sample_Ks/K1.txt'.format(i))\n",
    "        sample_K2 = np.loadtxt(SAVE_FOLDER + 'pair{}/sample_Ks/K2.txt'.format(i))\n",
    "\n",
    "        est_dug, changed_nodes = dci.estimate_dug(sample_K1, sample_K2, N_SAMP, N_SAMP, alpha=DUG_ALPHA, verbose=verbose)\n",
    "        retained_edges_dict, _ = dci.estimate_ddag_skeleton(X1, X2, est_dug, changed_nodes, DDAG_SKEL_ALPHAS, verbose=verbose)\n",
    "        yaml.dump(sys_utils.listify_dict(retained_edges_dict), open(RES_FOLDER + 'estimated_ddag_skeletons.yaml', 'w'), indent=2)\n",
    "\n",
    "        estimated_ddags = {}\n",
    "        for alpha in DDAG_SKEL_ALPHAS:\n",
    "            est_ddag = dci.estimate_ddag(X1, X2, retained_edges_dict[alpha], changed_nodes, DDAG_ALPHA, verbose=verbose)\n",
    "            estimated_ddags[alpha] = est_ddag\n",
    "        yaml.dump(sys_utils.listify_dict(estimated_ddags), open(RES_FOLDER + 'estimated_ddags.yaml', 'w'), indent=2)\n",
    "clear_output()"
   ]
  },
  {
   "cell_type": "code",
   "execution_count": 10,
   "metadata": {},
   "outputs": [],
   "source": [
    "rates_skel_dci = {\n",
    "    'tprs': np.zeros([N_PAIRS, len(DDAG_SKEL_ALPHAS)]),\n",
    "    'tnrs': np.zeros([N_PAIRS, len(DDAG_SKEL_ALPHAS)]),\n",
    "    'fprs': np.zeros([N_PAIRS, len(DDAG_SKEL_ALPHAS)]),\n",
    "    'fnrs': np.zeros([N_PAIRS, len(DDAG_SKEL_ALPHAS)])\n",
    "}\n",
    "\n",
    "for i in range(N_PAIRS):\n",
    "    RES_FOLDER = SAVE_FOLDER + 'pair{}/dci_results/'.format(i)\n",
    "    B1 = np.loadtxt(SAVE_FOLDER + 'pair{}/Bs/B1.txt'.format(i))\n",
    "    B2 = np.loadtxt(SAVE_FOLDER + 'pair{}/Bs/B2.txt'.format(i))\n",
    "    actual_edges = set(math_utils.upper_tri_ixs_nonzero(B1 - B2))\n",
    "    actual_no_edges = set(math_utils.upper_tri_ixs_zero(B1 - B2))\n",
    "    \n",
    "    est_ddag_skeletons = sys_utils.setify_dict(yaml.load(open(RES_FOLDER + 'estimated_ddag_skeletons.yaml')))\n",
    "    est_ddags = sys_utils.setify_dict(yaml.load(open(RES_FOLDER + 'estimated_ddags.yaml')))\n",
    "    \n",
    "    for j, alpha in enumerate(DDAG_SKEL_ALPHAS):\n",
    "        true_pos, true_neg, false_pos, false_neg = math_utils.sort_pos_neg(est_ddag_skeletons[alpha], actual_edges, actual_no_edges)\n",
    "        tpr, tnr, fpr, fnr = math_utils.compute_pos_neg_rates(true_pos, true_neg, false_pos, false_neg)\n",
    "        rates_skel_dci['tprs'][i, j] = tpr\n",
    "        rates_skel_dci['tnrs'][i, j] = tnr\n",
    "        rates_skel_dci['fprs'][i, j] = fpr\n",
    "        rates_skel_dci['fnrs'][i, j] = fnr\n",
    "\n",
    "\n",
    "exactly_correct_dci = np.logical_and(rates_skel_dci['fprs'] == 0, rates_skel_dci['fnrs'] == 0)\n",
    "prop_exactly_correct_dci = exactly_correct_dci.sum(axis=0) / N_PAIRS\n",
    "\n",
    "sys_utils.ensure_dirs([SAVE_FOLDER + 'performance/skeleton/'])\n",
    "yaml.dump(rates_skel_dci, open(SAVE_FOLDER + 'performance/skeleton/rates_dci.yaml', 'w'), indent=2)\n",
    "yaml.dump(prop_exactly_correct_dci, open(SAVE_FOLDER + 'performance/skeleton/exactly_correct_dci.yaml', 'w'), indent=2)"
   ]
  },
  {
   "cell_type": "code",
   "execution_count": 11,
   "metadata": {},
   "outputs": [],
   "source": [
    "%%R -i N_PAIRS,SAVE_FOLDER,PCALG_ALPHAS\n",
    "\n",
    "library('pcalg')\n",
    "library('GetoptLong')\n",
    "\n",
    "for (i in 0:(N_PAIRS-1)) {\n",
    "    X1 = read.table(qq('@{SAVE_FOLDER}pair@{i}/Xs/X1.txt'))\n",
    "    X2 = read.table(qq('@{SAVE_FOLDER}pair@{i}/Xs/X2.txt'))\n",
    "    S1 = list(C = cor(X1), n = nrow(X1))\n",
    "    S2 = list(C = cor(X2), n = nrow(X2))\n",
    "    \n",
    "    for (alpha in PCALG_ALPHAS) {\n",
    "        RES_FOLDER = paste(qq('@{SAVE_FOLDER}pair@{i}/pcalg_results/alpha='), sprintf('%4.2e', alpha), '/', sep='')\n",
    "        dir.create(RES_FOLDER, recursive=TRUE)\n",
    "        skel1 = pc(suffStat = S1, indepTest=gaussCItest, alpha=alpha, labels=colnames(X1))\n",
    "        skel2 = pc(suffStat = S2, indepTest=gaussCItest, alpha=alpha, labels=colnames(X2))\n",
    "        write(as(skel1, 'amat'), file=qq('@{RES_FOLDER}A1.txt'), ncolumns=ncol(X1))\n",
    "        write(as(skel2, 'amat'), file=qq('@{RES_FOLDER}A2.txt'), ncolumns=ncol(X2))\n",
    "    }\n",
    "}"
   ]
  },
  {
   "cell_type": "code",
   "execution_count": 7,
   "metadata": {},
   "outputs": [],
   "source": [
    "rates_skel_pc = {\n",
    "    'tprs': np.zeros([N_PAIRS, len(PCALG_ALPHAS)]),\n",
    "    'tnrs': np.zeros([N_PAIRS, len(PCALG_ALPHAS)]),\n",
    "    'fprs': np.zeros([N_PAIRS, len(PCALG_ALPHAS)]),\n",
    "    'fnrs': np.zeros([N_PAIRS, len(PCALG_ALPHAS)])\n",
    "}\n",
    "\n",
    "for i in range(N_PAIRS):\n",
    "    B1 = np.loadtxt(SAVE_FOLDER + 'pair{}/Bs/B1.txt'.format(i))\n",
    "    B2 = np.loadtxt(SAVE_FOLDER + 'pair{}/Bs/B2.txt'.format(i))\n",
    "    actual_edges = set(math_utils.upper_tri_ixs_nonzero(B1 - B2))\n",
    "    actual_no_edges = set(math_utils.upper_tri_ixs_zero(B1 - B2))\n",
    "    \n",
    "    for j, alpha in enumerate(PCALG_ALPHAS):\n",
    "        A1 = np.loadtxt(SAVE_FOLDER + 'pair{}/pcalg_results/alpha={:.2e}/A1.txt'.format(i, alpha))\n",
    "        A1 = (A1 != 0).astype(int) + (A1 != 0).astype(int).T\n",
    "        A2 = np.loadtxt(SAVE_FOLDER + 'pair{}/pcalg_results/alpha={:.2e}/A2.txt'.format(i, alpha))\n",
    "        A2 = (A2 != 0).astype(int) + (A2 != 0).astype(int).T\n",
    "        est_ddag_skel = set(math_utils.upper_tri_ixs_nonzero(A1 - A2))\n",
    "        true_pos, true_neg, false_pos, false_neg = math_utils.sort_pos_neg(est_ddag_skel, actual_edges, actual_no_edges)\n",
    "        tpr, tnr, fpr, fnr = math_utils.compute_pos_neg_rates(true_pos, true_neg, false_pos, false_neg)\n",
    "        rates_skel_pc['tprs'][i, j] = tpr\n",
    "        rates_skel_pc['tnrs'][i, j] = tnr\n",
    "        rates_skel_pc['fprs'][i, j] = fpr\n",
    "        rates_skel_pc['fnrs'][i, j] = fnr\n",
    "    \n",
    "avg_tprs_pc = rates_skel_pc['tprs'].mean(axis=0)\n",
    "avg_fprs_pc = rates_skel_pc['fprs'].mean(axis=0)\n",
    "exactly_correct_pc = np.logical_and(rates_skel_pc['fprs'] == 0, rates_skel_pc['fnrs'] == 0)\n",
    "prop_exactly_correct_pc = exactly_correct_pc.sum(axis=0) / N_PAIRS\n",
    "\n",
    "yaml.dump(rates_skel_pc, open(SAVE_FOLDER + 'performance/skeleton/rates_pc.yaml', 'w'), indent=2)\n",
    "yaml.dump(prop_exactly_correct_pc, open(SAVE_FOLDER + 'performance/skeleton/exactly_correct_pc.yaml', 'w'), indent=2)"
   ]
  },
  {
   "cell_type": "code",
   "execution_count": 3,
   "metadata": {
    "collapsed": true
   },
   "outputs": [],
   "source": [
    "%%R -i N_PAIRS,SAVE_FOLDER\n",
    "\n",
    "library('pcalg')\n",
    "library('GetoptLong')\n",
    "\n",
    "to_amat = function(g) {\n",
    "    as(as(as(g$essgraph, \"graphNEL\"), \"graphAM\"), \"matrix\")\n",
    "}\n",
    "\n",
    "for (i in 0:(N_PAIRS-1)) {\n",
    "    X1 = read.table(qq('@{SAVE_FOLDER}pair@{i}/Xs/X1.txt'))\n",
    "    X2 = read.table(qq('@{SAVE_FOLDER}pair@{i}/Xs/X2.txt'))\n",
    "    \n",
    "    l0score1 = new(\"GaussL0penObsScore\", data = X1, intercept = FALSE)\n",
    "    l0score2 = new(\"GaussL0penObsScore\", data = X2, intercept = FALSE)\n",
    "        \n",
    "    RES_FOLDER = qq('@{SAVE_FOLDER}pair@{i}/ges_results/')\n",
    "    dir.create(RES_FOLDER, recursive=TRUE)\n",
    "    skel1 = ges(score=l0score1, labels=colnames(X1))\n",
    "    skel2 = ges(score=l0score2, labels=colnames(X2))\n",
    "    write(to_amat(skel1), file=qq('@{RES_FOLDER}A1.txt'), ncolumns=ncol(X1))\n",
    "    write(to_amat(skel2), file=qq('@{RES_FOLDER}A2.txt'), ncolumns=ncol(X2))\n",
    "}"
   ]
  },
  {
   "cell_type": "code",
   "execution_count": 6,
   "metadata": {},
   "outputs": [],
   "source": [
    "tprs = np.zeros(N_PAIRS)\n",
    "tnrs = np.zeros(N_PAIRS)\n",
    "fprs = np.zeros(N_PAIRS)\n",
    "fnrs = np.zeros(N_PAIRS)\n",
    "\n",
    "\n",
    "for i in range(N_PAIRS):\n",
    "    B1 = np.loadtxt(SAVE_FOLDER + 'pair{}/Bs/B1.txt'.format(i))\n",
    "    B2 = np.loadtxt(SAVE_FOLDER + 'pair{}/Bs/B2.txt'.format(i))\n",
    "    actual_edges = set(math_utils.upper_tri_ixs_nonzero(B1 - B2))\n",
    "    actual_no_edges = set(math_utils.upper_tri_ixs_zero(B1 - B2))\n",
    "    \n",
    "    A1 = np.loadtxt(SAVE_FOLDER + 'pair{}/ges_results/A1.txt'.format(i))\n",
    "    A1 = (A1 != 0).astype(int) + (A1 != 0).astype(int).T\n",
    "    A2 = np.loadtxt(SAVE_FOLDER + 'pair{}/ges_results/A2.txt'.format(i))\n",
    "    A2 = (A2 != 0).astype(int) + (A2 != 0).astype(int).T\n",
    "    est_ddag_skel = set(math_utils.upper_tri_ixs_nonzero(A1 - A2))\n",
    "    true_pos, true_neg, false_pos, false_neg = math_utils.sort_pos_neg(est_ddag_skel, actual_edges, actual_no_edges)\n",
    "    tpr, tnr, fpr, fnr = math_utils.compute_pos_neg_rates(true_pos, true_neg, false_pos, false_neg)\n",
    "    tprs[i] = tpr\n",
    "    tnrs[i] = tnr\n",
    "    fprs[i] = fpr\n",
    "    fnrs[i] = fnr\n",
    "    \n",
    "exactly_correct_ges = np.logical_and(fprs == 0, fnrs == 0)\n",
    "prop_exactly_correct_ges = exactly_correct_ges.sum(axis=0) / N_PAIRS\n",
    "\n",
    "yaml.dump({'tprs': tprs, 'tnrs': tnrs, 'fprs': fprs, 'fnrs': fnrs}, open(SAVE_FOLDER + 'performance/skeleton/rates_ges.yaml', 'w'), indent=2)\n",
    "yaml.dump(prop_exactly_correct_ges, open(SAVE_FOLDER + 'performance/skeleton/exactly_correct_ges.yaml', 'w'), indent=2)"
   ]
  },
  {
   "cell_type": "code",
   "execution_count": null,
   "metadata": {},
   "outputs": [],
   "source": []
  }
 ],
 "metadata": {
  "kernelspec": {
   "display_name": "Python 3",
   "language": "python",
   "name": "python3"
  },
  "language_info": {
   "codemirror_mode": {
    "name": "ipython",
    "version": 3
   },
   "file_extension": ".py",
   "mimetype": "text/x-python",
   "name": "python",
   "nbconvert_exporter": "python",
   "pygments_lexer": "ipython3",
   "version": "3.6.4"
  }
 },
 "nbformat": 4,
 "nbformat_minor": 1
}
