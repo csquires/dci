{
 "cells": [
  {
   "cell_type": "markdown",
   "metadata": {},
   "source": [
    "# Imports"
   ]
  },
  {
   "cell_type": "markdown",
   "metadata": {},
   "source": [
    "#### Basic Imports"
   ]
  },
  {
   "cell_type": "code",
   "execution_count": 1,
   "metadata": {},
   "outputs": [
    {
     "ename": "ModuleNotFoundError",
     "evalue": "No module named 'xarray'",
     "traceback": [
      "\u001b[0;31m---------------------------------------------------------------------------\u001b[0m",
      "\u001b[0;31mModuleNotFoundError\u001b[0m                       Traceback (most recent call last)",
      "\u001b[0;32m<ipython-input-1-e47a57dfc5ee>\u001b[0m in \u001b[0;36m<module>\u001b[0;34m()\u001b[0m\n\u001b[1;32m      1\u001b[0m \u001b[0;32mimport\u001b[0m \u001b[0mitertools\u001b[0m \u001b[0;32mas\u001b[0m \u001b[0mitr\u001b[0m\u001b[0;34m\u001b[0m\u001b[0m\n\u001b[1;32m      2\u001b[0m \u001b[0;32mimport\u001b[0m \u001b[0mnumpy\u001b[0m \u001b[0;32mas\u001b[0m \u001b[0mnp\u001b[0m\u001b[0;34m\u001b[0m\u001b[0m\n\u001b[0;32m----> 3\u001b[0;31m \u001b[0;32mimport\u001b[0m \u001b[0manalysis\u001b[0m\u001b[0;34m\u001b[0m\u001b[0m\n\u001b[0m",
      "\u001b[0;32m/home/csquires/projects/dci/analysis.py\u001b[0m in \u001b[0;36m<module>\u001b[0;34m()\u001b[0m\n\u001b[0;32m----> 1\u001b[0;31m \u001b[0;32mimport\u001b[0m \u001b[0mxarray\u001b[0m \u001b[0;32mas\u001b[0m \u001b[0mxr\u001b[0m\u001b[0;34m\u001b[0m\u001b[0m\n\u001b[0m\u001b[1;32m      2\u001b[0m \u001b[0;32mimport\u001b[0m \u001b[0mnumpy\u001b[0m \u001b[0;32mas\u001b[0m \u001b[0mnp\u001b[0m\u001b[0;34m\u001b[0m\u001b[0m\n\u001b[1;32m      3\u001b[0m \u001b[0;32mfrom\u001b[0m \u001b[0mconfig\u001b[0m \u001b[0;32mimport\u001b[0m \u001b[0mDATA_FOLDER\u001b[0m\u001b[0;34m\u001b[0m\u001b[0m\n\u001b[1;32m      4\u001b[0m \u001b[0;32mimport\u001b[0m \u001b[0mos\u001b[0m\u001b[0;34m\u001b[0m\u001b[0m\n\u001b[1;32m      5\u001b[0m \u001b[0;32mimport\u001b[0m \u001b[0myaml\u001b[0m\u001b[0;34m\u001b[0m\u001b[0m\n",
      "\u001b[0;31mModuleNotFoundError\u001b[0m: No module named 'xarray'"
     ],
     "output_type": "error"
    }
   ],
   "source": [
    "import itertools as itr\n",
    "import numpy as np\n",
    "import analysis"
   ]
  },
  {
   "cell_type": "markdown",
   "metadata": {},
   "source": [
    "#### Plotting imports and style"
   ]
  },
  {
   "cell_type": "code",
   "execution_count": 3,
   "metadata": {
    "collapsed": true
   },
   "outputs": [],
   "source": [
    "%matplotlib inline\n",
    "\n",
    "import matplotlib as mpl\n",
    "import matplotlib.pyplot as plt\n",
    "import matplotlib.patches as mpatches\n",
    "import matplotlib.lines as mlines\n",
    "import seaborn as sns\n",
    "sns.set()\n",
    "\n",
    "mpl.rcParams['axes.labelsize'] = 15\n",
    "mpl.rcParams['xtick.labelsize'] = 12\n",
    "mpl.rcParams['ytick.labelsize'] = 12"
   ]
  },
  {
   "cell_type": "markdown",
   "metadata": {},
   "source": [
    "# Algorithm parameters"
   ]
  },
  {
   "cell_type": "code",
   "execution_count": 4,
   "metadata": {
    "collapsed": true
   },
   "outputs": [],
   "source": [
    "algs = ['dci-c', 'dci-fc', 'pcalg', 'ges']\n",
    "alg_display_names = ['DCI-C', 'DCI-FC', 'PC', 'GES']\n",
    "nsamples_list = [1000, 10000]\n",
    "colors = sns.color_palette()\n",
    "linestyles = ['-', '--']"
   ]
  },
  {
   "cell_type": "markdown",
   "metadata": {},
   "source": [
    "#### handles for plots"
   ]
  },
  {
   "cell_type": "code",
   "execution_count": 10,
   "metadata": {
    "collapsed": true
   },
   "outputs": [],
   "source": [
    "alg_handles = [mpatches.Patch(color=color, label=alg) for alg, color in zip(alg_display_names, colors)]\n",
    "sample_handles = [\n",
    "    mlines.Line2D([], [], color='k', linestyle=linestyle, label='$n$={:,}'.format(nsamples)) \n",
    "    for nsamples, linestyle in zip(nsamples_list, linestyles)\n",
    "]\n",
    "all_handles = list(itr.chain.from_iterable(itr.zip_longest(alg_handles, sample_handles, fillvalue=mlines.Line2D([0], [0], alpha=0))))"
   ]
  },
  {
   "cell_type": "markdown",
   "metadata": {},
   "source": [
    "# Data"
   ]
  },
  {
   "cell_type": "code",
   "execution_count": 8,
   "metadata": {},
   "outputs": [
    {
     "ename": "NameError",
     "evalue": "name 'analysis' is not defined",
     "traceback": [
      "\u001b[0;31m---------------------------------------------------------------------------\u001b[0m",
      "\u001b[0;31mNameError\u001b[0m                                 Traceback (most recent call last)",
      "\u001b[0;32m<ipython-input-8-05dd2199a01b>\u001b[0m in \u001b[0;36m<module>\u001b[0;34m()\u001b[0m\n\u001b[0;32m----> 1\u001b[0;31m \u001b[0mskeleton_da\u001b[0m \u001b[0;34m=\u001b[0m \u001b[0manalysis\u001b[0m\u001b[0;34m.\u001b[0m\u001b[0mget_skeleton_da\u001b[0m\u001b[0;34m(\u001b[0m\u001b[0;34m'fig1_data'\u001b[0m\u001b[0;34m,\u001b[0m \u001b[0malgs\u001b[0m\u001b[0;34m,\u001b[0m \u001b[0mnsamples_list\u001b[0m\u001b[0;34m,\u001b[0m \u001b[0;34m[\u001b[0m\u001b[0;36m1e-5\u001b[0m\u001b[0;34m,\u001b[0m \u001b[0;36m1e-4\u001b[0m\u001b[0;34m,\u001b[0m \u001b[0;36m1e-3\u001b[0m\u001b[0;34m,\u001b[0m \u001b[0;36m1e-2\u001b[0m\u001b[0;34m,\u001b[0m \u001b[0;36m1e-1\u001b[0m\u001b[0;34m]\u001b[0m\u001b[0;34m)\u001b[0m\u001b[0;34m\u001b[0m\u001b[0m\n\u001b[0m\u001b[1;32m      2\u001b[0m \u001b[0mexact_recovery_skeleton_da\u001b[0m \u001b[0;34m=\u001b[0m \u001b[0manalysis\u001b[0m\u001b[0;34m.\u001b[0m\u001b[0medges_da2_exact_recovery\u001b[0m\u001b[0;34m(\u001b[0m\u001b[0mskeleton_da\u001b[0m\u001b[0;34m)\u001b[0m\u001b[0;34m\u001b[0m\u001b[0m\n",
      "\u001b[0;31mNameError\u001b[0m: name 'analysis' is not defined"
     ],
     "output_type": "error"
    }
   ],
   "source": [
    "skeleton_da = analysis.get_skeleton_da('fig1_data', algs, nsamples_list, [1e-5, 1e-4, 1e-3, 1e-2, 1e-1])\n",
    "exact_recovery_skeleton_da = analysis.edges_da2_exact_recovery(skeleton_da)"
   ]
  },
  {
   "cell_type": "code",
   "execution_count": 9,
   "metadata": {},
   "outputs": [
    {
     "ename": "NameError",
     "evalue": "name 'analysis' is not defined",
     "traceback": [
      "\u001b[0;31m---------------------------------------------------------------------------\u001b[0m",
      "\u001b[0;31mNameError\u001b[0m                                 Traceback (most recent call last)",
      "\u001b[0;32m<ipython-input-9-61eaf18f725c>\u001b[0m in \u001b[0;36m<module>\u001b[0;34m()\u001b[0m\n\u001b[0;32m----> 1\u001b[0;31m \u001b[0medges_da\u001b[0m \u001b[0;34m=\u001b[0m \u001b[0manalysis\u001b[0m\u001b[0;34m.\u001b[0m\u001b[0mget_edges_da\u001b[0m\u001b[0;34m(\u001b[0m\u001b[0;34m'fig1_data'\u001b[0m\u001b[0;34m,\u001b[0m \u001b[0malgs\u001b[0m\u001b[0;34m,\u001b[0m \u001b[0mnsamples_list\u001b[0m\u001b[0;34m,\u001b[0m \u001b[0;34m[\u001b[0m\u001b[0;36m1e-5\u001b[0m\u001b[0;34m,\u001b[0m \u001b[0;36m1e-4\u001b[0m\u001b[0;34m,\u001b[0m \u001b[0;36m1e-3\u001b[0m\u001b[0;34m,\u001b[0m \u001b[0;36m1e-2\u001b[0m\u001b[0;34m,\u001b[0m \u001b[0;36m1e-1\u001b[0m\u001b[0;34m]\u001b[0m\u001b[0;34m)\u001b[0m\u001b[0;34m\u001b[0m\u001b[0m\n\u001b[0m\u001b[1;32m      2\u001b[0m \u001b[0mexact_recovery_da\u001b[0m \u001b[0;34m=\u001b[0m \u001b[0manalysis\u001b[0m\u001b[0;34m.\u001b[0m\u001b[0medges_da2_exact_recovery\u001b[0m\u001b[0;34m(\u001b[0m\u001b[0medges_da\u001b[0m\u001b[0;34m)\u001b[0m\u001b[0;34m\u001b[0m\u001b[0m\n",
      "\u001b[0;31mNameError\u001b[0m: name 'analysis' is not defined"
     ],
     "output_type": "error"
    }
   ],
   "source": [
    "edges_da = analysis.get_edges_da('fig1_data', algs, nsamples_list, [1e-5, 1e-4, 1e-3, 1e-2, 1e-1])\n",
    "exact_recovery_da = analysis.edges_da2_exact_recovery(edges_da)"
   ]
  },
  {
   "cell_type": "markdown",
   "metadata": {},
   "source": [
    "# Figures"
   ]
  },
  {
   "cell_type": "markdown",
   "metadata": {},
   "source": [
    "#### Figure 1a"
   ]
  },
  {
   "cell_type": "code",
   "execution_count": null,
   "metadata": {
    "collapsed": true
   },
   "outputs": [],
   "source": [
    "plt.figure(figsize=(6,6))\n",
    "\n",
    "alphas = exact_recovery_da.coords['alpha'].values\n",
    "for (alg, color), (nsamples, linestyle) in itr.product(zip(algs, colors), zip(nsamples_list, linestyles)):\n",
    "    exact_recovery = exact_recovery_skeleton_da.sel(alg=alg, nsamples=nsamples)\n",
    "    plt.plot(alphas, exact_recovery, color=color, linestyle=linestyle)\n",
    "plt.xscale('log')\n",
    "plt.xlabel(r'$\\alpha$')\n",
    "plt.ylim([0, 1])\n",
    "plt.ylabel(r\"Proportion of consistently estimated $\\bar{\\Delta}$'s\")\n",
    "plt.legend(handles=all_handles, ncol=4, loc='upper center', bbox_to_anchor=(.5, 1), shadow=True);"
   ]
  },
  {
   "cell_type": "markdown",
   "metadata": {},
   "source": [
    "#### Figure 1b"
   ]
  },
  {
   "cell_type": "code",
   "execution_count": null,
   "metadata": {
    "collapsed": true
   },
   "outputs": [],
   "source": [
    "plt.figure(figsize=(6,6))\n",
    "\n",
    "alphas = exact_recovery_da.coords['alpha'].values\n",
    "for (alg, color), (nsamples, linestyle) in itr.product(zip(algs, colors), zip(nsamples_list, linestyles)):\n",
    "    exact_recovery = exact_recovery_da.sel(alg=alg, nsamples=nsamples)\n",
    "    plt.plot(alphas, exact_recovery, color=color, linestyle=linestyle)\n",
    "plt.xscale('log')\n",
    "plt.xlabel(r'$\\alpha$')\n",
    "plt.ylim([0, 1])\n",
    "plt.ylabel(r\"Proportion of consistently estimated $\\Delta$'s\")\n",
    "plt.legend(handles=all_handles, ncol=4, loc='upper center', bbox_to_anchor=(.5, 1), shadow=True);"
   ]
  }
 ],
 "metadata": {
  "kernelspec": {
   "display_name": "dci",
   "language": "python",
   "name": "dci"
  },
  "language_info": {
   "codemirror_mode": {
    "name": "ipython",
    "version": 3
   },
   "file_extension": ".py",
   "mimetype": "text/x-python",
   "name": "python",
   "nbconvert_exporter": "python",
   "pygments_lexer": "ipython3",
   "version": "3.6.1"
  }
 },
 "nbformat": 4,
 "nbformat_minor": 2
}
