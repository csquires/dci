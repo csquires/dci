{
 "cells": [
  {
   "cell_type": "markdown",
   "metadata": {},
   "source": [
    "# Imports"
   ]
  },
  {
   "cell_type": "markdown",
   "metadata": {},
   "source": [
    "#### Basic Imports"
   ]
  },
  {
   "cell_type": "code",
   "execution_count": 8,
   "metadata": {},
   "outputs": [],
   "source": [
    "import analysis\n",
    "import itertools as itr\n",
    "import numpy as np\n",
    "import xarray as xr"
   ]
  },
  {
   "cell_type": "markdown",
   "metadata": {},
   "source": [
    "#### Plotting imports and style"
   ]
  },
  {
   "cell_type": "code",
   "execution_count": 9,
   "metadata": {},
   "outputs": [],
   "source": [
    "%matplotlib inline\n",
    "\n",
    "import matplotlib as mpl\n",
    "import matplotlib.pyplot as plt\n",
    "import matplotlib.patches as mpatches\n",
    "import matplotlib.lines as mlines\n",
    "import seaborn as sns\n",
    "sns.set()\n",
    "\n",
    "mpl.rcParams['axes.labelsize'] = 15\n",
    "mpl.rcParams['xtick.labelsize'] = 12\n",
    "mpl.rcParams['ytick.labelsize'] = 12"
   ]
  },
  {
   "cell_type": "markdown",
   "metadata": {},
   "source": [
    "# Algorithm parameters"
   ]
  },
  {
   "cell_type": "code",
   "execution_count": 28,
   "metadata": {},
   "outputs": [],
   "source": [
    "# algs = ['dci-c', 'dci-k', 'pcalg', 'kliep', 'ges']\n",
    "# alg_display_names = ['DCI-C', 'DCI-K', 'PC', 'KLIEP', 'GES']\n",
    "algs = ['dci-c', 'pcalg', 'ges']\n",
    "alg_display_names = ['DCI-C', 'PC', 'GES']\n",
    "\n",
    "nsamples_list = [300]\n",
    "colors = sns.color_palette()\n",
    "linestyles = ['-', '--']"
   ]
  },
  {
   "cell_type": "markdown",
   "metadata": {},
   "source": [
    "#### handles for plots"
   ]
  },
  {
   "cell_type": "code",
   "execution_count": 29,
   "metadata": {},
   "outputs": [],
   "source": [
    "alg_handles = [mpatches.Patch(color=color, label=alg) for alg, color in zip(alg_display_names, colors)]"
   ]
  },
  {
   "cell_type": "markdown",
   "metadata": {},
   "source": [
    "# Data"
   ]
  },
  {
   "cell_type": "code",
   "execution_count": 32,
   "metadata": {},
   "outputs": [],
   "source": [
    "skeleton_da = analysis.get_skeleton_da('fig1_data', algs, nsamples_list, [1e-5, 1e-4, 1e-3, 1e-2, 1e-1])\n",
    "skeleton_rates_da = analysis.edges_da2tpr_fpr(skeleton_da)"
   ]
  },
  {
   "cell_type": "code",
   "execution_count": null,
   "metadata": {},
   "outputs": [],
   "source": [
    "ddag_da = analysis.get_edges_da('fig1_data', algs, nsamples_list, [1e-5, 1e-4, 1e-3, 1e-2, 1e-1])\n",
    "ddag_rates_da = analysis.edges_da2tpr_fpr(ddag_da)"
   ]
  },
  {
   "cell_type": "markdown",
   "metadata": {},
   "source": [
    "# Figure 2a"
   ]
  },
  {
   "cell_type": "code",
   "execution_count": null,
   "metadata": {},
   "outputs": [],
   "source": [
    "for (alg, color), (nsamples, linestyle) in itr.product(zip(algs, colors), zip(nsamples_list, linestyles)):\n",
    "    tprs = rates_da.sel(alg=alg, nsamples=nsamples, rate='tpr').mean(dim='pair').values\n",
    "    fprs = rates_da.sel(alg=alg, nsamples=nsamples, rate='fpr').mean(dim='pair').values\n",
    "    sort_ixs = np.argsort(fprs)\n",
    "    plt.plot(fprs[sort_ixs], tprs[sort_ixs], color=color, linestyle=linestyle)\n",
    "plt.xlabel('Average false negative rate')\n",
    "plt.ylabel('Average false positive rate')\n",
    "plt.legend(handles=alg_handles+sample_handles);"
   ]
  },
  {
   "cell_type": "markdown",
   "metadata": {},
   "source": [
    "# Figure 2b"
   ]
  },
  {
   "cell_type": "code",
   "execution_count": null,
   "metadata": {},
   "outputs": [],
   "source": []
  }
 ],
 "metadata": {
  "kernelspec": {
   "display_name": "dci",
   "language": "python",
   "name": "dci"
  },
  "language_info": {
   "codemirror_mode": {
    "name": "ipython",
    "version": 3
   },
   "file_extension": ".py",
   "mimetype": "text/x-python",
   "name": "python",
   "nbconvert_exporter": "python",
   "pygments_lexer": "ipython3",
   "version": "3.6.5"
  }
 },
 "nbformat": 4,
 "nbformat_minor": 2
}
