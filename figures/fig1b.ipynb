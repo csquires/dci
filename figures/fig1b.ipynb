{
 "cells": [
  {
   "cell_type": "code",
   "execution_count": null,
   "metadata": {},
   "outputs": [],
   "source": [
    "%matplotlib inline\n",
    "\n",
    "import matplotlib.pyplot as plt\n",
    "import matplotlib.patches as mpatches\n",
    "import yaml"
   ]
  },
  {
   "cell_type": "code",
   "execution_count": 1,
   "metadata": {},
   "outputs": [
    {
     "ename": "ModuleNotFoundError",
     "evalue": "No module named 'analysis'",
     "output_type": "error",
     "traceback": [
      "\u001b[0;31m---------------------------------------------------------------------------\u001b[0m",
      "\u001b[0;31mModuleNotFoundError\u001b[0m                       Traceback (most recent call last)",
      "\u001b[0;32m<ipython-input-1-a77e1e07287f>\u001b[0m in \u001b[0;36m<module>\u001b[0;34m()\u001b[0m\n\u001b[0;32m----> 1\u001b[0;31m \u001b[0;32mfrom\u001b[0m \u001b[0manalysis\u001b[0m \u001b[0;32mimport\u001b[0m \u001b[0mget_edges_da\u001b[0m\u001b[0;34m\u001b[0m\u001b[0m\n\u001b[0m",
      "\u001b[0;31mModuleNotFoundError\u001b[0m: No module named 'analysis'"
     ]
    }
   ],
   "source": [
    "from analysis import get_edges_da"
   ]
  },
  {
   "cell_type": "code",
   "execution_count": 2,
   "metadata": {},
   "outputs": [
    {
     "ename": "ModuleNotFoundError",
     "evalue": "No module named 'config'",
     "output_type": "error",
     "traceback": [
      "\u001b[0;31m---------------------------------------------------------------------------\u001b[0m",
      "\u001b[0;31mModuleNotFoundError\u001b[0m                       Traceback (most recent call last)",
      "\u001b[0;32m<ipython-input-2-75286f0caaeb>\u001b[0m in \u001b[0;36m<module>\u001b[0;34m()\u001b[0m\n\u001b[0;32m----> 1\u001b[0;31m \u001b[0;32mimport\u001b[0m \u001b[0mconfig\u001b[0m\u001b[0;34m\u001b[0m\u001b[0m\n\u001b[0m",
      "\u001b[0;31mModuleNotFoundError\u001b[0m: No module named 'config'"
     ]
    }
   ],
   "source": [
    "import config"
   ]
  },
  {
   "cell_type": "code",
   "execution_count": null,
   "metadata": {},
   "outputs": [],
   "source": [
    "SAVE_FOLDER = 'data/data1/'\n",
    "DDAG_SKEL_ALPHAS = [1e-5, 1e-4, 1e-3, .01, .1]\n",
    "PCALG_ALPHAS = [1e-5, 1e-4, 1e-3, .01, .1]"
   ]
  },
  {
   "cell_type": "markdown",
   "metadata": {},
   "source": [
    "# Figure 1a"
   ]
  },
  {
   "cell_type": "code",
   "execution_count": null,
   "metadata": {},
   "outputs": [],
   "source": [
    "prop_exactly_correct_dci = yaml.load(open(SAVE_FOLDER + 'performance/skeleton/exactly_correct_dci.yaml'))\n",
    "prop_exactly_correct_pc = yaml.load(open(SAVE_FOLDER + 'performance/skeleton/exactly_correct_pc.yaml'))\n",
    "prop_exactly_correct_ges = yaml.load(open(SAVE_FOLDER + 'performance/skeleton/exactly_correct_ges.yaml'))\n",
    "# rates_skel_dci = yaml.load(open(SAVE_FOLDER + 'performance/skeleton/rates_dci.yaml'))\n",
    "# rates_skel_pc = yaml.load(open(SAVE_FOLDER + 'performance/skeleton/rates_pc.yaml'))\n",
    "# rates_skel_ges = yaml.load(open(SAVE_FOLDER + 'performance/skeleton/rates_ges.yaml'))\n",
    "\n",
    "# avg_tprs_dci = rates_skel_dci['tprs'].mean(axis=0)\n",
    "# avg_fprs_dci = rates_skel_dci['fprs'].mean(axis=0)\n",
    "\n",
    "plt.plot(DDAG_SKEL_ALPHAS, prop_exactly_correct_dci, color=BLUE)\n",
    "plt.plot(PCALG_ALPHAS, prop_exactly_correct_pc, color=GREEN)\n",
    "plt.axhline(prop_exactly_correct_ges, color=PURPLE)\n",
    "plt.xscale('log')\n",
    "plt.xlabel(r'$\\alpha$')\n",
    "plt.ylabel(r\"Proportion of correctly estimated $\\bar{\\Delta}$'s\")\n",
    "plt.ylim([0, 1])\n",
    "\n",
    "plt.legend(handles=[\n",
    "    mpatches.Patch(color=GREEN, label='PC'),\n",
    "    mpatches.Patch(color=BLUE, label='DCI-C'),\n",
    "    mpatches.Patch(color=PURPLE, label='GES')\n",
    "]);"
   ]
  },
  {
   "cell_type": "code",
   "execution_count": null,
   "metadata": {},
   "outputs": [],
   "source": []
  }
 ],
 "metadata": {
  "kernelspec": {
   "display_name": "Python 3",
   "language": "python",
   "name": "python3"
  },
  "language_info": {
   "codemirror_mode": {
    "name": "ipython",
    "version": 3
   },
   "file_extension": ".py",
   "mimetype": "text/x-python",
   "name": "python",
   "nbconvert_exporter": "python",
   "pygments_lexer": "ipython3",
   "version": "3.6.5"
  }
 },
 "nbformat": 4,
 "nbformat_minor": 1
}
