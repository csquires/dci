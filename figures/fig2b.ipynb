{
 "cells": [
  {
   "cell_type": "code",
   "execution_count": null,
   "metadata": {},
   "outputs": [],
   "source": [
    "%matplotlib inline\n",
    "\n",
    "import matplotlib.pyplot as plt\n",
    "import matplotlib.patches as mpatches\n",
    "import yaml"
   ]
  },
  {
   "cell_type": "code",
   "execution_count": 3,
   "metadata": {},
   "outputs": [],
   "source": [
    "SAVE_FOLDER = 'data/data1/'\n",
    "DDAG_SKEL_ALPHAS = [1e-5, 1e-4, 1e-3, .01, .1]\n",
    "PCALG_ALPHAS = [1e-5, 1e-4, 1e-3, .01, .1]"
   ]
  },
  {
   "cell_type": "markdown",
   "metadata": {},
   "source": [
    "# Figure 1a"
   ]
  },
  {
   "cell_type": "code",
   "execution_count": 7,
   "metadata": {},
   "outputs": [
    {
     "data": {
      "text/plain": [
       "<matplotlib.legend.Legend at 0x10675f828>"
      ]
     },
     "execution_count": 7,
     "metadata": {},
     "output_type": "execute_result"
    },
    {
     "data": {
      "image/png": "[encoded data removed]",
      "text/plain": [
       "<matplotlib.figure.Figure at 0x107a30048>"
      ]
     },
     "metadata": {},
     "output_type": "display_data"
    }
   ],
   "source": [
    "prop_exactly_correct_dci = yaml.load(open(SAVE_FOLDER + 'performance/skeleton/exactly_correct_dci.yaml'))\n",
    "prop_exactly_correct_pc = yaml.load(open(SAVE_FOLDER + 'performance/skeleton/exactly_correct_pc.yaml'))\n",
    "prop_exactly_correct_ges = yaml.load(open(SAVE_FOLDER + 'performance/skeleton/exactly_correct_ges.yaml'))\n",
    "# rates_skel_dci = yaml.load(open(SAVE_FOLDER + 'performance/skeleton/rates_dci.yaml'))\n",
    "# rates_skel_pc = yaml.load(open(SAVE_FOLDER + 'performance/skeleton/rates_pc.yaml'))\n",
    "# rates_skel_ges = yaml.load(open(SAVE_FOLDER + 'performance/skeleton/rates_ges.yaml'))\n",
    "\n",
    "# avg_tprs_dci = rates_skel_dci['tprs'].mean(axis=0)\n",
    "# avg_fprs_dci = rates_skel_dci['fprs'].mean(axis=0)\n",
    "\n",
    "plt.plot(DDAG_SKEL_ALPHAS, prop_exactly_correct_dci, color=BLUE)\n",
    "plt.plot(PCALG_ALPHAS, prop_exactly_correct_pc, color=GREEN)\n",
    "plt.axhline(prop_exactly_correct_ges, color=PURPLE)\n",
    "plt.xscale('log')\n",
    "plt.xlabel(r'$\\alpha$')\n",
    "plt.ylabel(r\"Proportion of correctly estimated $\\bar{\\Delta}$'s\")\n",
    "plt.ylim([0, 1])\n",
    "\n",
    "plt.legend(handles=[\n",
    "    mpatches.Patch(color=GREEN, label='PC'),\n",
    "    mpatches.Patch(color=BLUE, label='DCI-C'),\n",
    "    mpatches.Patch(color=PURPLE, label='GES')\n",
    "]);"
   ]
  },
  {
   "cell_type": "code",
   "execution_count": null,
   "metadata": {},
   "outputs": [],
   "source": []
  }
 ],
 "metadata": {
  "kernelspec": {
   "display_name": "Python 3",
   "language": "python",
   "name": "python3"
  },
  "language_info": {
   "codemirror_mode": {
    "name": "ipython",
    "version": 3
   },
   "file_extension": ".py",
   "mimetype": "text/x-python",
   "name": "python",
   "nbconvert_exporter": "python",
   "pygments_lexer": "ipython3",
   "version": "3.6.5"
  }
 },
 "nbformat": 4,
 "nbformat_minor": 1
}
